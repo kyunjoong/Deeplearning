{
  "nbformat": 4,
  "nbformat_minor": 0,
  "metadata": {
    "colab": {
      "name": "least_square.ipynb",
      "provenance": [],
      "collapsed_sections": []
    },
    "kernelspec": {
      "name": "python3",
      "display_name": "Python 3"
    },
    "language_info": {
      "name": "python"
    }
  },
  "cells": [
    {
      "cell_type": "code",
      "execution_count": 1,
      "metadata": {
        "id": "CvKZ-9jCkcEw"
      },
      "outputs": [],
      "source": [
        "import numpy as np"
      ]
    },
    {
      "cell_type": "code",
      "source": [
        "x = np.array([2,4,6,8])\n",
        "y = np.array([81,93,91,97])"
      ],
      "metadata": {
        "id": "L5-ySXpwkkWr"
      },
      "execution_count": 3,
      "outputs": []
    },
    {
      "cell_type": "code",
      "source": [
        "mx = np.mean(x)\n",
        "my = np.mean(y)"
      ],
      "metadata": {
        "id": "OrOEuii3krw6"
      },
      "execution_count": 4,
      "outputs": []
    },
    {
      "cell_type": "code",
      "source": [
        "print(\"average value x: \", mx)\n",
        "print(\"average value y: \", my)"
      ],
      "metadata": {
        "colab": {
          "base_uri": "https://localhost:8080/"
        },
        "id": "uc9bxUwgkwsq",
        "outputId": "23f32f8b-7a67-4498-e3ed-ffe631b81bbf"
      },
      "execution_count": 5,
      "outputs": [
        {
          "output_type": "stream",
          "name": "stdout",
          "text": [
            "average value x:  5.0\n",
            "average value y:  90.5\n"
          ]
        }
      ]
    },
    {
      "cell_type": "markdown",
      "source": [
        "Least square method \n",
        "\n",
        "coefficient:\n",
        "sum((xi - avg(x))*(yi-avg(y)) / sum(xi-avg(x))^2 \n",
        "\n",
        "intercept:\n",
        "avg(y)-(avg(x)*coefficient)\n",
        "\n",
        "i = number of elements \n",
        "\n",
        "\n"
      ],
      "metadata": {
        "id": "DgmnxewclAH_"
      }
    },
    {
      "cell_type": "code",
      "source": [
        "divisor = sum([(i-mx)**2 for i in x])\n",
        "print(divisor)"
      ],
      "metadata": {
        "colab": {
          "base_uri": "https://localhost:8080/"
        },
        "id": "G664LuYTk3pL",
        "outputId": "71b194c0-febd-46d2-c85b-a785fc90e27a"
      },
      "execution_count": 16,
      "outputs": [
        {
          "output_type": "stream",
          "name": "stdout",
          "text": [
            "20.0\n"
          ]
        }
      ]
    },
    {
      "cell_type": "code",
      "source": [
        "def least_square_top(x,mx,y,my):\n",
        "  d = 0\n",
        "  for i in range(len(x)):\n",
        "    d += (x[i]-mx)*(y[i]-my)\n",
        "  return d \n",
        "\n",
        "dividend = least_square_top(x,mx,y,my)\n",
        "print(dividend)\n"
      ],
      "metadata": {
        "colab": {
          "base_uri": "https://localhost:8080/"
        },
        "id": "0GL2bbrYlY4y",
        "outputId": "87fb44a0-bffb-42e5-a90e-f2eccaba1b79"
      },
      "execution_count": 18,
      "outputs": [
        {
          "output_type": "stream",
          "name": "stdout",
          "text": [
            "46.0\n"
          ]
        }
      ]
    },
    {
      "cell_type": "code",
      "source": [
        "gradient_a = dividend/divisor   # calculate coefficient "
      ],
      "metadata": {
        "id": "91JLUEuBmLsd"
      },
      "execution_count": 19,
      "outputs": []
    },
    {
      "cell_type": "code",
      "source": [
        "b = my - (mx*gradient_a)   # calculate intercept "
      ],
      "metadata": {
        "id": "r7obtHnWmdCu"
      },
      "execution_count": 20,
      "outputs": []
    },
    {
      "cell_type": "code",
      "source": [
        "print(\"gradient : \", gradient_a)\n",
        "print(\"intercept: \", b)"
      ],
      "metadata": {
        "colab": {
          "base_uri": "https://localhost:8080/"
        },
        "id": "ABVCCKg7mg7N",
        "outputId": "4094b004-dada-4720-e897-62ec3ce623ba"
      },
      "execution_count": 21,
      "outputs": [
        {
          "output_type": "stream",
          "name": "stdout",
          "text": [
            "gradient :  2.3\n",
            "intercept:  79.0\n"
          ]
        }
      ]
    },
    {
      "cell_type": "code",
      "source": [
        ""
      ],
      "metadata": {
        "id": "3DPv3ZyOmp59"
      },
      "execution_count": null,
      "outputs": []
    }
  ]
}