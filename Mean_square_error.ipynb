{
  "nbformat": 4,
  "nbformat_minor": 0,
  "metadata": {
    "colab": {
      "name": "Mean square error.ipynb",
      "provenance": []
    },
    "kernelspec": {
      "name": "python3",
      "display_name": "Python 3"
    },
    "language_info": {
      "name": "python"
    }
  },
  "cells": [
    {
      "cell_type": "markdown",
      "source": [
        "Mean square error \n",
        "\n",
        "sum of error = sum((yi-yhat)**2)\n",
        "\n",
        "yi = true value / yhat = predicted value \n",
        "\n",
        "Mean square error \n",
        "sum of error * 1/n\n",
        "\n",
        "n = number of elements "
      ],
      "metadata": {
        "id": "vJIYeX2pnTv6"
      }
    },
    {
      "cell_type": "code",
      "execution_count": 1,
      "metadata": {
        "id": "HhPumJccnSr4"
      },
      "outputs": [],
      "source": [
        "import numpy as np "
      ]
    },
    {
      "cell_type": "code",
      "source": [
        "fake_a = 3\n",
        "fake_b = 76"
      ],
      "metadata": {
        "id": "0g4dFzhVnTa9"
      },
      "execution_count": 2,
      "outputs": []
    },
    {
      "cell_type": "code",
      "source": [
        "x = np.array([2,4,6,8])\n",
        "y = np.array([81,93,91,97])"
      ],
      "metadata": {
        "id": "bMwz0f27nTi-"
      },
      "execution_count": 3,
      "outputs": []
    },
    {
      "cell_type": "code",
      "source": [
        "def predict(x):\n",
        "  return fake_a * x + fake_b"
      ],
      "metadata": {
        "id": "Ddf5JkBEn8wJ"
      },
      "execution_count": 4,
      "outputs": []
    },
    {
      "cell_type": "code",
      "source": [
        "predict_result = []"
      ],
      "metadata": {
        "id": "qF0kpDOQoCCr"
      },
      "execution_count": 5,
      "outputs": []
    },
    {
      "cell_type": "code",
      "source": [
        "for i in range(len(x)):\n",
        "  predict_result.append(predict(x[i]))\n",
        "  print(\"study time = %.f, true score=%.f, predicted score=%.f\" % (x[i],y[i],predict(x[i])))\n",
        "\n",
        "print(predict_result)"
      ],
      "metadata": {
        "colab": {
          "base_uri": "https://localhost:8080/"
        },
        "id": "dYuicPgeoC_X",
        "outputId": "aeafc4be-f47c-468a-b14d-d0495dd6a148"
      },
      "execution_count": 6,
      "outputs": [
        {
          "output_type": "stream",
          "name": "stdout",
          "text": [
            "study time = 2, true score=81, predicted score=82\n",
            "study time = 4, true score=93, predicted score=88\n",
            "study time = 6, true score=91, predicted score=94\n",
            "study time = 8, true score=97, predicted score=100\n",
            "[82, 88, 94, 100]\n"
          ]
        }
      ]
    },
    {
      "cell_type": "code",
      "source": [
        "n=len(x)  \n",
        "def mse(y, y_pred):\n",
        "   a = (1/n) * sum((y - y_pred)**2)\n",
        "   return a"
      ],
      "metadata": {
        "id": "s7gANhTdoSIb"
      },
      "execution_count": 7,
      "outputs": []
    },
    {
      "cell_type": "code",
      "source": [
        "print(\"Mean square Error: \" + str(mse(y,predict_result)))"
      ],
      "metadata": {
        "colab": {
          "base_uri": "https://localhost:8080/"
        },
        "id": "eKbx8c5ZomI3",
        "outputId": "3f6d2948-53ee-4e7b-ce83-44be328224da"
      },
      "execution_count": 8,
      "outputs": [
        {
          "output_type": "stream",
          "name": "stdout",
          "text": [
            "Mean square Error: 11.0\n"
          ]
        }
      ]
    },
    {
      "cell_type": "code",
      "source": [
        ""
      ],
      "metadata": {
        "id": "iO1rCDY1otNP"
      },
      "execution_count": 8,
      "outputs": []
    }
  ]
}