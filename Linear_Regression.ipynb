{
  "nbformat": 4,
  "nbformat_minor": 0,
  "metadata": {
    "colab": {
      "name": "Linear Regression.ipynb",
      "provenance": []
    },
    "kernelspec": {
      "name": "python3",
      "display_name": "Python 3"
    },
    "language_info": {
      "name": "python"
    }
  },
  "cells": [
    {
      "cell_type": "markdown",
      "source": [
        "Linear regression (Gradient descent)\n",
        "---\n",
        "y_pred = a*x + b \n",
        "\n",
        "error = y - y_pred\n",
        "\n",
        "mean square error = (1/n)*sum((y-ypred)^2))\n",
        "\n",
        "\n",
        "a_diff = (2/n) * sum(-x*(error)) \n",
        "- \n",
        "partial differential a\n",
        "\n",
        "b_diff = (2/n) * sum(-(error))\n",
        "\n",
        "- \n",
        "\n",
        "partial differential b"
      ],
      "metadata": {
        "id": "U4C-OaPDvlNv"
      }
    },
    {
      "cell_type": "code",
      "execution_count": 1,
      "metadata": {
        "id": "Q-LofgvXuz79"
      },
      "outputs": [],
      "source": [
        "import numpy as np \n",
        "import matplotlib.pyplot as plt"
      ]
    },
    {
      "cell_type": "code",
      "source": [
        "x = np.array([2,4,6,8])\n",
        "y = np.array([81,93,91,97])"
      ],
      "metadata": {
        "id": "2Jw0Rk0ovm9u"
      },
      "execution_count": 2,
      "outputs": []
    },
    {
      "cell_type": "code",
      "source": [
        "plt.scatter(x,y)\n",
        "plt.show()"
      ],
      "metadata": {
        "colab": {
          "base_uri": "https://localhost:8080/",
          "height": 265
        },
        "id": "lgoKqjffwoAa",
        "outputId": "7f8537f1-b005-457c-fd05-a253cea68048"
      },
      "execution_count": 3,
      "outputs": [
        {
          "output_type": "display_data",
          "data": {
            "text/plain": [
              "<Figure size 432x288 with 1 Axes>"
            ],
            "image/png": "[encoded data removed]"
          },
          "metadata": {
            "needs_background": "light"
          }
        }
      ]
    },
    {
      "cell_type": "code",
      "source": [
        "a= 0 # initial value of gradient\n",
        "b= 0 # initial value of intercept"
      ],
      "metadata": {
        "id": "oEaS0AS2wrWu"
      },
      "execution_count": 4,
      "outputs": []
    },
    {
      "cell_type": "code",
      "source": [
        "lr = 0.03 # learning rate \n",
        "epochs = 2001 # epoches, How many times have you repeatedly experimented with the input value"
      ],
      "metadata": {
        "id": "PgJ1lQyXwxo7"
      },
      "execution_count": 13,
      "outputs": []
    },
    {
      "cell_type": "code",
      "source": [
        "n = len(x) # 4"
      ],
      "metadata": {
        "id": "_pdWhOeyw3zj"
      },
      "execution_count": 6,
      "outputs": []
    },
    {
      "cell_type": "code",
      "source": [
        "# gradient descnet \n",
        "\n",
        "for i in range(epochs):  # iteration \n",
        "  y_pred = a *x  + b     # formula to predict value\n",
        "  error = y - y_pred     # error between truth and predict \n",
        "\n",
        "  a_diff = (2/n)* sum(-x*(error))  # partical differene a for Mean square error\n",
        "  b_diff = (2/n)* sum(-(error))     # partical differene b for Mean square error\n",
        "\n",
        "  a = a - lr*a_diff  # update a value to multiply learning late\n",
        "  b = b - lr*b_diff  # update b value to multiply learning late\n",
        "\n",
        "  if i % 100 == 0:  # each 100 epoches, print out\n",
        "\n",
        "    print(\"epoch= %.f, gradient= %.04f, intercept= %.04f\" % (i,a,b))"
      ],
      "metadata": {
        "colab": {
          "base_uri": "https://localhost:8080/"
        },
        "id": "uEyNz9O2w6ZS",
        "outputId": "28b68c9a-3b0a-41a7-b3b9-d58218b400e3"
      },
      "execution_count": 12,
      "outputs": [
        {
          "output_type": "stream",
          "name": "stdout",
          "text": [
            "epoch= 0, gradient= 2.3000, intercept= 79.0000\n",
            "epoch= 100, gradient= 2.3000, intercept= 79.0000\n",
            "epoch= 200, gradient= 2.3000, intercept= 79.0000\n",
            "epoch= 300, gradient= 2.3000, intercept= 79.0000\n",
            "epoch= 400, gradient= 2.3000, intercept= 79.0000\n",
            "epoch= 500, gradient= 2.3000, intercept= 79.0000\n",
            "epoch= 600, gradient= 2.3000, intercept= 79.0000\n",
            "epoch= 700, gradient= 2.3000, intercept= 79.0000\n",
            "epoch= 800, gradient= 2.3000, intercept= 79.0000\n",
            "epoch= 900, gradient= 2.3000, intercept= 79.0000\n",
            "epoch= 1000, gradient= 2.3000, intercept= 79.0000\n",
            "epoch= 1100, gradient= 2.3000, intercept= 79.0000\n",
            "epoch= 1200, gradient= 2.3000, intercept= 79.0000\n",
            "epoch= 1300, gradient= 2.3000, intercept= 79.0000\n",
            "epoch= 1400, gradient= 2.3000, intercept= 79.0000\n",
            "epoch= 1500, gradient= 2.3000, intercept= 79.0000\n",
            "epoch= 1600, gradient= 2.3000, intercept= 79.0000\n",
            "epoch= 1700, gradient= 2.3000, intercept= 79.0000\n",
            "epoch= 1800, gradient= 2.3000, intercept= 79.0000\n",
            "epoch= 1900, gradient= 2.3000, intercept= 79.0000\n",
            "epoch= 2000, gradient= 2.3000, intercept= 79.0000\n"
          ]
        }
      ]
    },
    {
      "cell_type": "code",
      "source": [
        "y_pred = a*x + b   # final a and b for plotting"
      ],
      "metadata": {
        "id": "AikLgXkoxMsZ"
      },
      "execution_count": 9,
      "outputs": []
    },
    {
      "cell_type": "code",
      "source": [
        "# plot graph\n",
        "plt.scatter(x,y)\n",
        "plt.plot(x,y_pred,'r')\n",
        "plt.show()"
      ],
      "metadata": {
        "colab": {
          "base_uri": "https://localhost:8080/",
          "height": 265
        },
        "id": "mphAEkDbxcHv",
        "outputId": "7a4ad3cf-1a37-4c40-85b1-4774a49de253"
      },
      "execution_count": 10,
      "outputs": [
        {
          "output_type": "display_data",
          "data": {
            "text/plain": [
              "<Figure size 432x288 with 1 Axes>"
            ],
            "image/png": "[encoded data removed]"
          },
          "metadata": {
            "needs_background": "light"
          }
        }
      ]
    },
    {
      "cell_type": "code",
      "source": [
        ""
      ],
      "metadata": {
        "id": "RqbBj_ejxgrw"
      },
      "execution_count": null,
      "outputs": []
    }
  ]
}